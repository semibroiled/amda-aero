{
 "cells": [
  {
   "cell_type": "code",
   "execution_count": 1,
   "source": [
    "'''Import local modules and plotting packages'''\n",
    "\n",
    "import numpy as np\n",
    "import pandas as pd\n",
    "%matplotlib inline\n",
    "\n",
    "import matplotlib.pyplot as plt\n",
    "\n",
    "import seaborn as sns\n",
    "sns.set()\n"
   ],
   "outputs": [],
   "metadata": {}
  },
  {
   "cell_type": "code",
   "execution_count": 2,
   "source": [
    "from v_plot import plot_performance\n",
    "\n",
    "plot_performance()"
   ],
   "outputs": [
    {
     "output_type": "stream",
     "name": "stdout",
     "text": [
      "   Cornering Radius  v_curve_rel  v_curve_abs  v_control_rel (C_l=0)\n",
      "0               5.0     1.026527    23.145360                    1.0\n",
      "1              10.0     1.055285    33.649449                    1.0\n",
      "2              15.0     1.086602    42.435040                    1.0\n",
      "3              20.0     1.120885    50.545711                    1.0\n",
      "4              25.0     1.158631    58.414891                    1.0\n",
      "5              30.0     1.200467    66.300884                    1.0\n",
      "6              35.0     1.247189    74.400311                    1.0\n",
      "7              40.0     1.299829    82.894265                    1.0\n",
      "8              45.0     1.359750    91.975851                    1.0\n",
      "9              50.0     1.428805   101.874682                    1.0\n"
     ]
    }
   ],
   "metadata": {}
  },
  {
   "cell_type": "code",
   "execution_count": null,
   "source": [],
   "outputs": [],
   "metadata": {}
  }
 ],
 "metadata": {
  "orig_nbformat": 4,
  "language_info": {
   "name": "python",
   "version": "3.7.4",
   "mimetype": "text/x-python",
   "codemirror_mode": {
    "name": "ipython",
    "version": 3
   },
   "pygments_lexer": "ipython3",
   "nbconvert_exporter": "python",
   "file_extension": ".py"
  },
  "kernelspec": {
   "name": "python3",
   "display_name": "Python 3.7.4 64-bit ('base': conda)"
  },
  "interpreter": {
   "hash": "5bb92a85c9a1f15da6b689aacf75061d89825faba8bdf21749792174943e74b5"
  }
 },
 "nbformat": 4,
 "nbformat_minor": 2
}